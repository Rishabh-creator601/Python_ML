{
 "cells": [
  {
   "cell_type": "code",
   "execution_count": 16,
   "id": "f8a0d49b",
   "metadata": {},
   "outputs": [],
   "source": [
    "from tensorflow.keras.preprocessing.text import Tokenizer\n",
    "from tensorflow.keras.layers import Dense,LSTM,Embedding,Dropout,Bidirectional,GlobalMaxPool1D\n",
    "from tensorflow.keras.models import Sequential\n",
    "from tensorflow.keras.preprocessing.sequence import pad_sequences"
   ]
  },
  {
   "cell_type": "code",
   "execution_count": 22,
   "id": "e7285760",
   "metadata": {},
   "outputs": [],
   "source": [
    "import pandas as pd\n",
    "import numpy as np\n",
    "import os ,re\n",
    "from nltk.corpus import stopwords\n",
    "from nltk.stem import WordNetLemmatizer\n",
    "from sklearn.model_selection import train_test_split"
   ]
  },
  {
   "cell_type": "code",
   "execution_count": 3,
   "id": "98d6b314",
   "metadata": {},
   "outputs": [],
   "source": [
    "#Initialze All\n",
    "\n",
    "stemmer = WordNetLemmatizer()\n",
    "stop_words = set(stopwords.words(\"english\"))"
   ]
  },
  {
   "cell_type": "code",
   "execution_count": 4,
   "id": "23e8284b",
   "metadata": {},
   "outputs": [],
   "source": [
    "data = pd.read_csv(\"datasets/imdb.csv\")"
   ]
  },
  {
   "cell_type": "code",
   "execution_count": 5,
   "id": "42f5857a",
   "metadata": {},
   "outputs": [
    {
     "data": {
      "text/html": [
       "<div>\n",
       "<style scoped>\n",
       "    .dataframe tbody tr th:only-of-type {\n",
       "        vertical-align: middle;\n",
       "    }\n",
       "\n",
       "    .dataframe tbody tr th {\n",
       "        vertical-align: top;\n",
       "    }\n",
       "\n",
       "    .dataframe thead th {\n",
       "        text-align: right;\n",
       "    }\n",
       "</style>\n",
       "<table border=\"1\" class=\"dataframe\">\n",
       "  <thead>\n",
       "    <tr style=\"text-align: right;\">\n",
       "      <th></th>\n",
       "      <th>review</th>\n",
       "      <th>sentiment</th>\n",
       "    </tr>\n",
       "  </thead>\n",
       "  <tbody>\n",
       "    <tr>\n",
       "      <th>0</th>\n",
       "      <td>One of the other reviewers has mentioned that ...</td>\n",
       "      <td>positive</td>\n",
       "    </tr>\n",
       "    <tr>\n",
       "      <th>1</th>\n",
       "      <td>A wonderful little production. &lt;br /&gt;&lt;br /&gt;The...</td>\n",
       "      <td>positive</td>\n",
       "    </tr>\n",
       "    <tr>\n",
       "      <th>2</th>\n",
       "      <td>I thought this was a wonderful way to spend ti...</td>\n",
       "      <td>positive</td>\n",
       "    </tr>\n",
       "    <tr>\n",
       "      <th>3</th>\n",
       "      <td>Basically there's a family where a little boy ...</td>\n",
       "      <td>negative</td>\n",
       "    </tr>\n",
       "    <tr>\n",
       "      <th>4</th>\n",
       "      <td>Petter Mattei's \"Love in the Time of Money\" is...</td>\n",
       "      <td>positive</td>\n",
       "    </tr>\n",
       "  </tbody>\n",
       "</table>\n",
       "</div>"
      ],
      "text/plain": [
       "                                              review sentiment\n",
       "0  One of the other reviewers has mentioned that ...  positive\n",
       "1  A wonderful little production. <br /><br />The...  positive\n",
       "2  I thought this was a wonderful way to spend ti...  positive\n",
       "3  Basically there's a family where a little boy ...  negative\n",
       "4  Petter Mattei's \"Love in the Time of Money\" is...  positive"
      ]
     },
     "execution_count": 5,
     "metadata": {},
     "output_type": "execute_result"
    }
   ],
   "source": [
    "data.head()"
   ]
  },
  {
   "cell_type": "code",
   "execution_count": 6,
   "id": "7b5a3965",
   "metadata": {},
   "outputs": [],
   "source": [
    "data['target'] = data['sentiment'].apply(lambda x : 1 if x==\"positive\" else 0)"
   ]
  },
  {
   "cell_type": "code",
   "execution_count": 7,
   "id": "029b53b8",
   "metadata": {},
   "outputs": [],
   "source": [
    "def clean_text(text):\n",
    "    words = re.sub(r\"<br />\",\"\",text)\n",
    "    words =  re.sub(r\"[^\\w\\s]\",\"\",text)\n",
    "    words = words.lower()\n",
    "    words = [stemmer.lemmatize(w) for w in words.split(\" \")]\n",
    "    words = [w for w in words if w not in stop_words]\n",
    "    return \" \".join(words)"
   ]
  },
  {
   "cell_type": "code",
   "execution_count": 8,
   "id": "c96dbe01",
   "metadata": {},
   "outputs": [],
   "source": [
    "data['new'] = data['review'].apply(lambda x: clean_text(x))"
   ]
  },
  {
   "cell_type": "code",
   "execution_count": 9,
   "id": "869917ff",
   "metadata": {},
   "outputs": [],
   "source": [
    "max_features= 6000\n",
    "\n",
    "token = Tokenizer(num_words = max_features)"
   ]
  },
  {
   "cell_type": "code",
   "execution_count": 10,
   "id": "41024bff",
   "metadata": {},
   "outputs": [],
   "source": [
    "token.fit_on_texts(data['new'])\n",
    "train = token.texts_to_sequences(data['new'])"
   ]
  },
  {
   "cell_type": "code",
   "execution_count": 11,
   "id": "32cfb0de",
   "metadata": {},
   "outputs": [],
   "source": [
    "max_len =130"
   ]
  },
  {
   "cell_type": "code",
   "execution_count": 12,
   "id": "ceb31189",
   "metadata": {},
   "outputs": [],
   "source": [
    "x = pad_sequences(train,maxlen=max_len)"
   ]
  },
  {
   "cell_type": "code",
   "execution_count": 13,
   "id": "f7a76bf7",
   "metadata": {},
   "outputs": [],
   "source": [
    "y =  data['target']"
   ]
  },
  {
   "cell_type": "code",
   "execution_count": 14,
   "id": "bbcfe515",
   "metadata": {},
   "outputs": [],
   "source": [
    "embed_size=128"
   ]
  },
  {
   "cell_type": "code",
   "execution_count": 18,
   "id": "f8b9dcf3",
   "metadata": {},
   "outputs": [],
   "source": [
    "model = Sequential()\n",
    "model.add(Embedding(max_features,embed_size))\n",
    "model.add(Bidirectional(LSTM(32,return_sequences=True)))\n",
    "model.add(GlobalMaxPool1D())\n",
    "model.add(Dense(20,activation='relu'))\n",
    "model.add(Dropout(0.05))\n",
    "model.add(Dense(1,activation='sigmoid'))\n",
    "model.compile(loss='binary_crossentropy',optimizer='adam',metrics=['accuracy'])"
   ]
  },
  {
   "cell_type": "code",
   "execution_count": 23,
   "id": "79e6b246",
   "metadata": {},
   "outputs": [],
   "source": [
    "x_train,x_test,y_train,y_test =  train_test_split(x,y,test_size=0.3)"
   ]
  },
  {
   "cell_type": "code",
   "execution_count": 24,
   "id": "7e76525b",
   "metadata": {},
   "outputs": [
    {
     "data": {
      "text/plain": [
       "(35000, 130)"
      ]
     },
     "execution_count": 24,
     "metadata": {},
     "output_type": "execute_result"
    }
   ],
   "source": [
    "x_train.shape"
   ]
  },
  {
   "cell_type": "code",
   "execution_count": 26,
   "id": "c211ca85",
   "metadata": {},
   "outputs": [
    {
     "name": "stdout",
     "output_type": "stream",
     "text": [
      "Epoch 1/3\n",
      "280/280 [==============================] - 65s 231ms/step - loss: 0.1647 - accuracy: 0.9412 - val_loss: 0.1654 - val_accuracy: 0.9413\n",
      "Epoch 2/3\n",
      "280/280 [==============================] - 67s 239ms/step - loss: 0.1042 - accuracy: 0.9672 - val_loss: 0.1946 - val_accuracy: 0.9279\n",
      "Epoch 3/3\n",
      "280/280 [==============================] - 71s 255ms/step - loss: 0.0693 - accuracy: 0.9791 - val_loss: 0.2442 - val_accuracy: 0.9176\n"
     ]
    },
    {
     "data": {
      "text/plain": [
       "<tensorflow.python.keras.callbacks.History at 0x4f97cd08>"
      ]
     },
     "execution_count": 26,
     "metadata": {},
     "output_type": "execute_result"
    }
   ],
   "source": [
    "model.fit(x_train,y_train,batch_size=100,validation_split=0.2,epochs=3)"
   ]
  },
  {
   "cell_type": "code",
   "execution_count": 27,
   "id": "e37dc4bc",
   "metadata": {},
   "outputs": [
    {
     "name": "stdout",
     "output_type": "stream",
     "text": [
      "469/469 [==============================] - 13s 27ms/step - loss: 0.2458 - accuracy: 0.91770s - loss: 0.2460 - accu\n"
     ]
    }
   ],
   "source": [
    "loss,acc = model.evaluate(x_test,y_test)\n"
   ]
  },
  {
   "cell_type": "code",
   "execution_count": 28,
   "id": "d7164e13",
   "metadata": {},
   "outputs": [
    {
     "data": {
      "text/plain": [
       "0.9176666736602783"
      ]
     },
     "execution_count": 28,
     "metadata": {},
     "output_type": "execute_result"
    }
   ],
   "source": [
    "acc"
   ]
  },
  {
   "cell_type": "code",
   "execution_count": 29,
   "id": "f6d62db5",
   "metadata": {},
   "outputs": [],
   "source": [
    "model.save(\"models/imdb.h5\")"
   ]
  },
  {
   "cell_type": "code",
   "execution_count": null,
   "id": "c7d81019",
   "metadata": {},
   "outputs": [],
   "source": []
  }
 ],
 "metadata": {
  "kernelspec": {
   "display_name": "Python 3 (ipykernel)",
   "language": "python",
   "name": "python3"
  },
  "language_info": {
   "codemirror_mode": {
    "name": "ipython",
    "version": 3
   },
   "file_extension": ".py",
   "mimetype": "text/x-python",
   "name": "python",
   "nbconvert_exporter": "python",
   "pygments_lexer": "ipython3",
   "version": "3.7.8"
  }
 },
 "nbformat": 4,
 "nbformat_minor": 5
}
